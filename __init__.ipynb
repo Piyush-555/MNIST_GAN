{
 "cells": [
  {
   "cell_type": "code",
   "execution_count": 1,
   "metadata": {},
   "outputs": [],
   "source": [
    "# Importing dependencies\n",
    "import numpy as np\n",
    "import matplotlib.pyplot as plt\n",
    "import torch\n",
    "import torchvision"
   ]
  },
  {
   "cell_type": "code",
   "execution_count": 2,
   "metadata": {},
   "outputs": [
    {
     "name": "stdout",
     "output_type": "stream",
     "text": [
      "cuda:0\n"
     ]
    }
   ],
   "source": [
    "# Is gpu available?\n",
    "if torch.cuda.is_available():\n",
    "    device = torch.device(\"cuda:0\")\n",
    "else:\n",
    "    device = torch.device(\"cpu\")\n",
    "    \n",
    "print(device)"
   ]
  },
  {
   "cell_type": "code",
   "execution_count": 4,
   "metadata": {},
   "outputs": [
    {
     "name": "stdout",
     "output_type": "stream",
     "text": [
      "Downloading http://yann.lecun.com/exdb/mnist/train-images-idx3-ubyte.gz\n",
      "Downloading http://yann.lecun.com/exdb/mnist/train-labels-idx1-ubyte.gz\n",
      "Downloading http://yann.lecun.com/exdb/mnist/t10k-images-idx3-ubyte.gz\n",
      "Downloading http://yann.lecun.com/exdb/mnist/t10k-labels-idx1-ubyte.gz\n",
      "Processing...\n",
      "Done!\n",
      "Train samples: 60000\n",
      "Test samples: 10000\n",
      "Image shape: torch.Size([16, 1, 28, 28])\n"
     ]
    }
   ],
   "source": [
    "# getting dataset ready...\n",
    "from torchvision import transforms\n",
    "from torchvision.datasets import MNIST\n",
    "from torch.utils.data import DataLoader\n",
    "\n",
    "import os\n",
    "root_dir = \"data/\"\n",
    "batch_size=16\n",
    "\n",
    "try:\n",
    "    os.mkdir(root_dir)\n",
    "except FileExistsError:\n",
    "    print(\"Path already exist\")\n",
    "\n",
    "# Transform\n",
    "transform = transforms.Compose([transforms.ToTensor(), transforms.Normalize((0,0,0), (1,1,1))]) #mean=0, stddev=1\n",
    "\n",
    "# Loading data\n",
    "train_data = MNIST(root=root_dir, train=True, download=True, transform=transform)\n",
    "test_data = MNIST(root=root_dir, train=False, download=True, transform=transform)\n",
    "\n",
    "train_loader = DataLoader(train_data, batch_size=batch_size, shuffle=True, num_workers=4)\n",
    "test_loader = DataLoader(test_data, batch_size=batch_size, shuffle=False, num_workers=4)\n",
    "\n",
    "classes = [\"0\", \"1\", \"2\", \"3\", \"4\", \"5\", \"6\", \"7\", \"8\", \"9\"]\n",
    "\n",
    "print(\"Train samples:\", len(train_data))\n",
    "print(\"Test samples:\", len(test_data))\n",
    "\n",
    "print(\"Image shape:\", iter(train_loader).next()[0].shape)"
   ]
  },
  {
   "cell_type": "code",
   "execution_count": 6,
   "metadata": {},
   "outputs": [
    {
     "data": {
      "image/png": "[encoded data removed]",
      "text/plain": [
       "<Figure size 432x288 with 1 Axes>"
      ]
     },
     "metadata": {},
     "output_type": "display_data"
    },
    {
     "name": "stdout",
     "output_type": "stream",
     "text": [
      "['7', '9', '2', '4', '5', '1', '6', '2', '9', '0', '7', '2', '6', '3', '8', '5']\n"
     ]
    }
   ],
   "source": [
    "# showing samples...\n",
    "def get_random_sample():\n",
    "    data_iter = iter(train_loader)\n",
    "    for i in range(np.random.randint(100)):\n",
    "        next(data_iter)\n",
    "    return next(data_iter)\n",
    "\n",
    "def show_images(images, mean, stddev):\n",
    "    # de-normalizing images\n",
    "    images = images*stddev + mean\n",
    "    img = images.numpy()\n",
    "    # making numpy compatible image\n",
    "    img = np.transpose(img, (1,2,0))\n",
    "    plt.imshow(img)\n",
    "    plt.show()\n",
    "\n",
    "images, lables = get_random_sample()\n",
    "show_images(torchvision.utils.make_grid(images), mean=0, stddev=1)\n",
    "print(list(classes[i] for i in lables))"
   ]
  },
  {
   "cell_type": "code",
   "execution_count": null,
   "metadata": {},
   "outputs": [],
   "source": []
  },
  {
   "cell_type": "code",
   "execution_count": null,
   "metadata": {},
   "outputs": [],
   "source": []
  },
  {
   "cell_type": "code",
   "execution_count": null,
   "metadata": {},
   "outputs": [],
   "source": []
  },
  {
   "cell_type": "code",
   "execution_count": null,
   "metadata": {},
   "outputs": [],
   "source": []
  },
  {
   "cell_type": "code",
   "execution_count": null,
   "metadata": {},
   "outputs": [],
   "source": []
  }
 ],
 "metadata": {
  "kernelspec": {
   "display_name": "Python 3",
   "language": "python",
   "name": "python3"
  },
  "language_info": {
   "codemirror_mode": {
    "name": "ipython",
    "version": 3
   },
   "file_extension": ".py",
   "mimetype": "text/x-python",
   "name": "python",
   "nbconvert_exporter": "python",
   "pygments_lexer": "ipython3",
   "version": "3.6.5"
  }
 },
 "nbformat": 4,
 "nbformat_minor": 2
}
