{
 "cells": [
  {
   "cell_type": "code",
   "execution_count": 1,
   "metadata": {},
   "outputs": [],
   "source": [
    "# Importing dependencies\n",
    "import numpy as np\n",
    "import matplotlib.pyplot as plt\n",
    "import torch\n",
    "import torchvision"
   ]
  },
  {
   "cell_type": "code",
   "execution_count": 2,
   "metadata": {},
   "outputs": [
    {
     "name": "stdout",
     "output_type": "stream",
     "text": [
      "cuda:0\n"
     ]
    }
   ],
   "source": [
    "# Is gpu available?\n",
    "if torch.cuda.is_available():\n",
    "    device = torch.device(\"cuda:0\")\n",
    "else:\n",
    "    device = torch.device(\"cpu\")\n",
    "    \n",
    "print(device)"
   ]
  },
  {
   "cell_type": "code",
   "execution_count": 3,
   "metadata": {},
   "outputs": [
    {
     "name": "stdout",
     "output_type": "stream",
     "text": [
      "Path already exist\n",
      "Train samples: 60000\n",
      "Test samples: 10000\n",
      "Image shape: torch.Size([16, 1, 28, 28])\n"
     ]
    }
   ],
   "source": [
    "# getting dataset ready...\n",
    "from torchvision import transforms\n",
    "from torchvision.datasets import MNIST\n",
    "from torch.utils.data import DataLoader\n",
    "\n",
    "import os\n",
    "root_dir = \"data/\"\n",
    "batch_size=16\n",
    "\n",
    "try:\n",
    "    os.mkdir(root_dir)\n",
    "except FileExistsError:\n",
    "    print(\"Path already exist\")\n",
    "\n",
    "# Transform\n",
    "transform = transforms.Compose([transforms.ToTensor(), transforms.Normalize((0,0,0), (1,1,1))]) #mean=0, stddev=1\n",
    "\n",
    "# Loading data\n",
    "train_data = MNIST(root=root_dir, train=True, download=True, transform=transform)\n",
    "test_data = MNIST(root=root_dir, train=False, download=True, transform=transform)\n",
    "\n",
    "train_loader = DataLoader(train_data, batch_size=batch_size, shuffle=True, num_workers=4)\n",
    "test_loader = DataLoader(test_data, batch_size=batch_size, shuffle=False, num_workers=4)\n",
    "\n",
    "classes = [\"0\", \"1\", \"2\", \"3\", \"4\", \"5\", \"6\", \"7\", \"8\", \"9\"]\n",
    "\n",
    "print(\"Train samples:\", len(train_data))\n",
    "print(\"Test samples:\", len(test_data))\n",
    "\n",
    "print(\"Image shape:\", iter(train_loader).next()[0].shape)"
   ]
  },
  {
   "cell_type": "code",
   "execution_count": 4,
   "metadata": {},
   "outputs": [
    {
     "data": {
      "image/png": "[encoded data removed]",
      "text/plain": [
       "<Figure size 432x288 with 1 Axes>"
      ]
     },
     "metadata": {},
     "output_type": "display_data"
    },
    {
     "name": "stdout",
     "output_type": "stream",
     "text": [
      "['1', '8', '1', '6', '8', '2', '4', '2', '0', '7', '1', '3', '5', '1', '7', '1']\n"
     ]
    }
   ],
   "source": [
    "# showing samples...\n",
    "def get_random_sample():\n",
    "    data_iter = iter(train_loader)\n",
    "    for i in range(np.random.randint(100)):\n",
    "        next(data_iter)\n",
    "    return next(data_iter)\n",
    "\n",
    "def show_images(images, mean, stddev):\n",
    "    # de-normalizing images\n",
    "    images = images*stddev + mean\n",
    "    img = np.array(images.tolist())\n",
    "    # making numpy compatible image\n",
    "    img = np.transpose(img, (1,2,0))\n",
    "    plt.imshow(img)\n",
    "    plt.show()\n",
    "\n",
    "images, lables = get_random_sample()\n",
    "show_images(torchvision.utils.make_grid(images), mean=0, stddev=1)\n",
    "print(list(classes[i] for i in lables))"
   ]
  },
  {
   "cell_type": "code",
   "execution_count": 5,
   "metadata": {},
   "outputs": [],
   "source": [
    "# Defining models...\n",
    "\n",
    "# Importing modules\n",
    "import torch.nn as nn\n",
    "from torch.nn.functional import relu\n",
    "\n",
    "# Discriminator...\n",
    "class Discriminator(nn.Module):\n",
    "    \n",
    "    def __init__(self):\n",
    "        super().__init__()\n",
    "        self.conv1 = nn.Conv2d(1,16,5)\n",
    "        self.conv2 = nn.Conv2d(16,32,5)\n",
    "        self.fc1 = nn.Linear(32*20*20,1024)\n",
    "        self.fc2 = nn.Linear(1024,128)\n",
    "        self.fc3 = nn.Linear(128,1)\n",
    "        \n",
    "    def forward(self,x):\n",
    "        x = self.conv1(x)\n",
    "        x = relu(x)\n",
    "        x = self.conv2(x)\n",
    "        x = relu(x)\n",
    "        x = x.view(-1, 32*20*20)\n",
    "        x = self.fc1(x)\n",
    "        x = relu(x)\n",
    "        x = self.fc2(x)\n",
    "        x = relu(x)\n",
    "        x = self.fc3(x)\n",
    "        return x\n",
    "    \n",
    "    \n",
    "# Generator...\n",
    "class Generator(nn.Module):\n",
    "    \n",
    "    def __init__(self):\n",
    "        super().__init__()\n",
    "        self.fc1 = nn.Linear(128,1024)\n",
    "        self.fc2 = nn.Linear(1024,32*20*20)\n",
    "        self.deconv1 = nn.ConvTranspose2d(32,16,5,bias=False)\n",
    "        self.deconv2 = nn.ConvTranspose2d(16,1,5,bias=False)\n",
    "        \n",
    "    def forward(self,x):\n",
    "        x = self.fc1(x)\n",
    "        x = relu(x)\n",
    "        x = self.fc2(x)\n",
    "        x = relu(x)\n",
    "        x = x.view(-1,32,20,20)\n",
    "        x = self.deconv1(x)\n",
    "        x = self.deconv2(x)\n",
    "        return x "
   ]
  },
  {
   "cell_type": "code",
   "execution_count": 6,
   "metadata": {},
   "outputs": [
    {
     "name": "stdout",
     "output_type": "stream",
     "text": [
      "Discriminator(\n",
      "  (conv1): Conv2d(1, 16, kernel_size=(5, 5), stride=(1, 1))\n",
      "  (conv2): Conv2d(16, 32, kernel_size=(5, 5), stride=(1, 1))\n",
      "  (fc1): Linear(in_features=12800, out_features=1024, bias=True)\n",
      "  (fc2): Linear(in_features=1024, out_features=128, bias=True)\n",
      "  (fc3): Linear(in_features=128, out_features=1, bias=True)\n",
      ")\n",
      "Generator(\n",
      "  (fc1): Linear(in_features=128, out_features=1024, bias=True)\n",
      "  (fc2): Linear(in_features=1024, out_features=12800, bias=True)\n",
      "  (deconv1): ConvTranspose2d(32, 16, kernel_size=(5, 5), stride=(1, 1), bias=False)\n",
      "  (deconv2): ConvTranspose2d(16, 1, kernel_size=(5, 5), stride=(1, 1), bias=False)\n",
      ")\n"
     ]
    }
   ],
   "source": [
    "# Initializing Descriminator and Generator...\n",
    "D = Discriminator()\n",
    "G = Generator()\n",
    "D.to(device)\n",
    "G.to(device)\n",
    "print(D)\n",
    "print(G)"
   ]
  },
  {
   "cell_type": "code",
   "execution_count": 7,
   "metadata": {},
   "outputs": [],
   "source": [
    "# Generate noise for Genarator\n",
    "torch.manual_seed(123)\n",
    "def generate_noise(batch_size):\n",
    "    return torch.randn(batch_size, 128)"
   ]
  },
  {
   "cell_type": "code",
   "execution_count": 8,
   "metadata": {},
   "outputs": [],
   "source": [
    "# Loss and Optimizer\n",
    "from torch.optim import Adam\n",
    "\n",
    "Loss = nn.MSELoss()\n",
    "D_opt = Adam(D.parameters(), lr=1e-4)\n",
    "G_opt = Adam(G.parameters(), lr=1e-4)\n",
    "\n",
    "# 1-Real 0-Fake\n",
    "lables_real = torch.ones(batch_size, 1).to(device)\n",
    "lables_fake = torch.zeros(batch_size, 1).to(device)"
   ]
  },
  {
   "cell_type": "code",
   "execution_count": null,
   "metadata": {},
   "outputs": [],
   "source": [
    "# Training the networks\n",
    "import time\n",
    "num_epochs = 20\n",
    "num_batches = len(train_loader)\n",
    "interval = 250\n",
    "# Comment following line if running this cell for more than one\n",
    "stats = {\"loss\":[], \"loss_with_intervals\":[], \"accuracy\":[]}\n",
    "\n",
    "for epoch in range(num_epochs):\n",
    "    D_running_loss = 0\n",
    "    G_running_loss = 0\n",
    "    for i, data in enumerate(train_loader):\n",
    "        \n",
    "        # Training Discriminator\n",
    "        D_opt.zero_grad()\n",
    "        \n",
    "        real_images, _ = data\n",
    "        real_images = real_images.to(device)\n",
    "        D_real = D(real_images).to(device)\n",
    "        \n",
    "        noise = generate_noise(batch_size).to(device)\n",
    "        fake_images = G(noise).to(device)\n",
    "        D_fake = D(fake_images).to(device)\n",
    "        \n",
    "        D_loss_real = Loss(D_real, lables_real).to(device)\n",
    "        D_loss_fake = Loss(D_fake, lables_fake).to(device)\n",
    "        D_loss_real.backward()\n",
    "        D_loss_fake.backward()\n",
    "        D_opt.step()\n",
    "        \n",
    "        D_running_loss += D_loss_real.item() + D_loss_fake.item()\n",
    "        \n",
    "        # Training Generator\n",
    "        G_opt.zero_grad()\n",
    "        \n",
    "        noise = generate_noise(batch_size).to(device)\n",
    "        fake_images = G(noise).to(device)\n",
    "        D_fake = D(fake_images).to(device)\n",
    "        \n",
    "        G_loss = Loss(D_fake, lables_real).to(device)\n",
    "        G_loss.backward()\n",
    "        G_opt.step()\n",
    "        \n",
    "        G_running_loss += G_loss.item()\n",
    "        \n",
    "    # Showing Generated images\n",
    "    print(\"Epoch {}: D_loss: {} G_loss: {}\".format(epoch+1, D_running_loss/num_batches, G_running_loss/num_batches))\n",
    "    show_images(torchvision.utils.make_grid(fake_images), mean=0, stddev=1)\n",
    "    "
   ]
  },
  {
   "cell_type": "code",
   "execution_count": null,
   "metadata": {},
   "outputs": [],
   "source": []
  }
 ],
 "metadata": {
  "kernelspec": {
   "display_name": "Python 3",
   "language": "python",
   "name": "python3"
  },
  "language_info": {
   "codemirror_mode": {
    "name": "ipython",
    "version": 3
   },
   "file_extension": ".py",
   "mimetype": "text/x-python",
   "name": "python",
   "nbconvert_exporter": "python",
   "pygments_lexer": "ipython3",
   "version": "3.6.5"
  }
 },
 "nbformat": 4,
 "nbformat_minor": 2
}
